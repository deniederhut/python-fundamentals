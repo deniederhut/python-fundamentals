{
 "metadata": {
  "name": "",
  "signature": "sha256:6605b22424c94b35fa80d1baa27a85e71960eb6ae1842399c5cd52135a9dd7bc"
 },
 "nbformat": 3,
 "nbformat_minor": 0,
 "worksheets": [
  {
   "cells": [
    {
     "cell_type": "markdown",
     "metadata": {},
     "source": [
      "# Functions\n",
      "\n",
      "Functions are the basic building blocks that we use to store chunks of code we'll want to use again later. The details are pretty simple, but this is one of those ideas where it's good to get lots of practice!"
     ]
    },
    {
     "cell_type": "code",
     "collapsed": false,
     "input": [
      "def simple_function(x):\n",
      "    print x + 1\n",
      "    \n",
      "simple_function(2)"
     ],
     "language": "python",
     "metadata": {},
     "outputs": [
      {
       "output_type": "stream",
       "stream": "stdout",
       "text": [
        "3\n"
       ]
      }
     ],
     "prompt_number": 1
    },
    {
     "cell_type": "markdown",
     "metadata": {},
     "source": [
      "Note that our function might not work for everything we pass in (you should get an error on this one):"
     ]
    },
    {
     "cell_type": "code",
     "collapsed": false,
     "input": [
      "simple_function('2')"
     ],
     "language": "python",
     "metadata": {},
     "outputs": [
      {
       "ename": "TypeError",
       "evalue": "cannot concatenate 'str' and 'int' objects",
       "output_type": "pyerr",
       "traceback": [
        "\u001b[1;31m---------------------------------------------------------------------------\u001b[0m\n\u001b[1;31mTypeError\u001b[0m                                 Traceback (most recent call last)",
        "\u001b[1;32m<ipython-input-2-d20a2ba40f15>\u001b[0m in \u001b[0;36m<module>\u001b[1;34m()\u001b[0m\n\u001b[1;32m----> 1\u001b[1;33m \u001b[0msimple_function\u001b[0m\u001b[1;33m(\u001b[0m\u001b[1;34m'2'\u001b[0m\u001b[1;33m)\u001b[0m\u001b[1;33m\u001b[0m\u001b[0m\n\u001b[0m",
        "\u001b[1;32m<ipython-input-1-f7f6e7cb5905>\u001b[0m in \u001b[0;36msimple_function\u001b[1;34m(x)\u001b[0m\n\u001b[0;32m      1\u001b[0m \u001b[1;32mdef\u001b[0m \u001b[0msimple_function\u001b[0m\u001b[1;33m(\u001b[0m\u001b[0mx\u001b[0m\u001b[1;33m)\u001b[0m\u001b[1;33m:\u001b[0m\u001b[1;33m\u001b[0m\u001b[0m\n\u001b[1;32m----> 2\u001b[1;33m     \u001b[1;32mprint\u001b[0m \u001b[0mx\u001b[0m \u001b[1;33m+\u001b[0m \u001b[1;36m1\u001b[0m\u001b[1;33m\u001b[0m\u001b[0m\n\u001b[0m\u001b[0;32m      3\u001b[0m \u001b[1;33m\u001b[0m\u001b[0m\n\u001b[0;32m      4\u001b[0m \u001b[0msimple_function\u001b[0m\u001b[1;33m(\u001b[0m\u001b[1;36m2\u001b[0m\u001b[1;33m)\u001b[0m\u001b[1;33m\u001b[0m\u001b[0m\n",
        "\u001b[1;31mTypeError\u001b[0m: cannot concatenate 'str' and 'int' objects"
       ]
      }
     ],
     "prompt_number": 2
    },
    {
     "cell_type": "markdown",
     "metadata": {},
     "source": [
      "Functions can take any number of arguments"
     ]
    },
    {
     "cell_type": "code",
     "collapsed": false,
     "input": [
      "def less_simple(a, b, c):\n",
      "    print a + b + c\n",
      "    \n",
      "less_simple(1, 2, 3)"
     ],
     "language": "python",
     "metadata": {},
     "outputs": []
    },
    {
     "cell_type": "markdown",
     "metadata": {},
     "source": [
      "And now we can pass in strings (as long as they're all strings):"
     ]
    },
    {
     "cell_type": "code",
     "collapsed": false,
     "input": [
      "less_simple('These ', 'should ', 'concatenate')"
     ],
     "language": "python",
     "metadata": {},
     "outputs": []
    },
    {
     "cell_type": "markdown",
     "metadata": {},
     "source": [
      "You can also use named arguments instead of positional ones. Note how the printed order is still \"abc\" even though we pass in \"acb.\""
     ]
    },
    {
     "cell_type": "code",
     "collapsed": false,
     "input": [
      "less_simple(a='first', c=' third', b=' second')"
     ],
     "language": "python",
     "metadata": {},
     "outputs": []
    },
    {
     "cell_type": "markdown",
     "metadata": {},
     "source": [
      "## Variables are created and destroyed in a function call\n",
      "\n",
      "When you execute a previously-defined function, like `simple_function(3)`, we say that you \"called\" the function. When you call a function, a temporary workspace is set up that will be destroyed when the function returns by:\n",
      "\n",
      "1. getting to the end, or \n",
      "1. explicity by a `return` statement\n",
      "\n",
      "In this temporary environment, the variables in the parameter list (in parentheses in the definition) are set to the values passed in. For example, in `simple_function(3)`, `x` gets set to `3`. Afterwards, you can't access these variables!"
     ]
    },
    {
     "cell_type": "code",
     "collapsed": false,
     "input": [
      "# Check out the def of simple_function above - we're setting x to 3!\n",
      "simple_function(3)\n",
      "# x is no longer defined because simple_function returned (i.e., finished)!\n",
      "x"
     ],
     "language": "python",
     "metadata": {},
     "outputs": []
    },
    {
     "cell_type": "markdown",
     "metadata": {},
     "source": [
      "Things can get confusing when you use the same names for variables both inside and outside a function. Check out this example:"
     ]
    },
    {
     "cell_type": "code",
     "collapsed": false,
     "input": [
      "night = 'night'\n",
      "day = 'day'\n",
      "\n",
      "# If you were just reading through, it would be easy to think \n",
      "# that 'night' in this function corresponds to 'night' above!\n",
      "def confused_by_names(night, day):\n",
      "    print 'night is', night\n",
      "    print 'day is', day\n",
      "    \n",
      "\n",
      "confused_by_names(day, night)"
     ],
     "language": "python",
     "metadata": {},
     "outputs": []
    },
    {
     "cell_type": "markdown",
     "metadata": {},
     "source": [
      "So, to avoid confusion, *use different variable names in every context!*\n",
      "\n",
      "In general, Python has very rich options for defining and calling functions. But we're already getting ahead of Codecademy, so we'll stop here for now.\n",
      "\n",
      "# Modules\n",
      "\n",
      "Python has an extensive standard library that is always included with the python interpreter. You can read about it here:\n",
      "\n",
      "http://docs.python.org/2/library/\n",
      "\n",
      "It can seem overwhelming! I've been using it for years and still don't know everything in there!\n",
      "\n",
      "Another very useful module is pandas. It provides a DataFrame structure that's a lot like a spreadsheet (don't worry - we'll explain what those `{}` and `[]` expressions are later):"
     ]
    },
    {
     "cell_type": "code",
     "collapsed": false,
     "input": [
      "import pandas\n",
      "\n",
      "df = pandas.DataFrame({'Day': [1, 2, 3, 4], 'Score': [88, 90, 76, 43]})"
     ],
     "language": "python",
     "metadata": {},
     "outputs": []
    },
    {
     "cell_type": "markdown",
     "metadata": {},
     "source": [
      "The IPython notebook will print these very nicely:"
     ]
    },
    {
     "cell_type": "code",
     "collapsed": false,
     "input": [
      "df"
     ],
     "language": "python",
     "metadata": {},
     "outputs": []
    },
    {
     "cell_type": "markdown",
     "metadata": {},
     "source": [
      "We can efficiently compute information about the table:"
     ]
    },
    {
     "cell_type": "code",
     "collapsed": false,
     "input": [
      "df.mean()"
     ],
     "language": "python",
     "metadata": {},
     "outputs": []
    },
    {
     "cell_type": "markdown",
     "metadata": {},
     "source": [
      "And we can select columns or rows or both (again, we'll explain some of this syntax later):"
     ]
    },
    {
     "cell_type": "code",
     "collapsed": false,
     "input": [
      "df.Score # This only works if the column is a valid python variable name!"
     ],
     "language": "python",
     "metadata": {},
     "outputs": []
    },
    {
     "cell_type": "code",
     "collapsed": false,
     "input": [
      "df.iloc[1]"
     ],
     "language": "python",
     "metadata": {},
     "outputs": []
    },
    {
     "cell_type": "code",
     "collapsed": false,
     "input": [
      "df.Score[1]"
     ],
     "language": "python",
     "metadata": {},
     "outputs": []
    },
    {
     "cell_type": "markdown",
     "metadata": {},
     "source": [
      "Pandas is very powerful. Even this one library will take time to master. You can read more about it here:\n",
      "\n",
      "http://pandas.pydata.org/"
     ]
    }
   ],
   "metadata": {}
  }
 ]
}